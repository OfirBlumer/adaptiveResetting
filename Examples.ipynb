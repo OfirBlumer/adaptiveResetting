{
 "cells": [
  {
   "cell_type": "markdown",
   "id": "031d796e-8cb1-469e-ad48-00813b45dd73",
   "metadata": {},
   "source": [
    "# Examples\n",
    "\n",
    "Here we provide examples of Python implementations of the estimators presented in the manuscript."
   ]
  },
  {
   "cell_type": "code",
   "execution_count": 5,
   "id": "48b8493e-2395-45bc-a394-de7905b39dfa",
   "metadata": {},
   "outputs": [],
   "source": [
    "import matplotlib.pyplot as plt\n",
    "import numpy as np\n",
    "import scipy as scp\n",
    "import scipy.special\n",
    "\n",
    "np.random.seed(170924)"
   ]
  },
  {
   "cell_type": "markdown",
   "id": "7c864d9f-e888-441a-be27-a919327cb0a8",
   "metadata": {},
   "source": [
    "## The MFPT\n",
    "\n",
    "Below is an example of estimating the MFPT with assymetric resetting rate $r = 1$ at $x>1$ and $r=0$ otherwise, for one-dimensional free diffusion from $x=1$ to the origin."
   ]
  },
  {
   "cell_type": "code",
   "execution_count": 6,
   "id": "d23a996f-c59a-45e5-ad73-b8c0e0451a60",
   "metadata": {},
   "outputs": [
    {
     "name": "stdout",
     "output_type": "stream",
     "text": [
      "Analytic value:  1.5 ; Prediction with 1000 samples:  1.5895177214383658\n"
     ]
    }
   ],
   "source": [
    "N = 1000                    # Number of trajectories\n",
    "dt = 0.001                  # Time step\n",
    "D = 1                       # Diffusion coefficient\n",
    "scale = np.sqrt(2 * dt * D) # Coefficient of normal noise in Langevin dynamics\n",
    "r = 1                       # Resetting rate\n",
    "x0 = 1                      # Initial position\n",
    "\n",
    "Pr_T_le_R = 0 \n",
    "T_T_le_R = 0\n",
    "R_R_l_T = 0\n",
    "\n",
    "for i in range(N):\n",
    "    \n",
    "    # Sample a diffusive trajectory from x = 1 to the origin\n",
    "    x = np.array([x0] + list(np.random.normal(scale = scale, size = 999999))).cumsum()\n",
    "    ni = np.argmax(x < 0) if 0 != np.argmax(x < 0) else len(x)\n",
    "    x = x[:ni]\n",
    "    \n",
    "    p = r * (x > 1) * dt                            # The probability of resetting given that no resetting occurred previously\n",
    "    psi = (1 - p).cumprod() / (1 - p)               # Survival probability of trajectory i through Eq. 4\n",
    "    psi = psi * (psi > 0) \n",
    "    \n",
    "    Pr_T_le_R += psi[-1]                            # Adding the contribution of trajectory i in Eq. 5\n",
    "    T_T_le_R += psi[-1] * ni * dt                   # Adding the contribution of trajectory i in Eq. 6\n",
    "    R_R_l_T += (p * psi * np.arange(ni)).sum() * dt # Adding the contribution of trajectory i in Eq. 7\n",
    "\n",
    "# Normalization\n",
    "\n",
    "Pr_T_le_R = Pr_T_le_R / N\n",
    "T_T_le_R = T_T_le_R / N / Pr_T_le_R\n",
    "R_R_l_T = R_R_l_T / N / (1 - Pr_T_le_R)\n",
    "\n",
    "MFPT = (1 / Pr_T_le_R - 1) * R_R_l_T + T_T_le_R                    # The MFPT through Eq. 3\n",
    "analytic = -x0 ** 2 / (2 * D) + x0 * (x0 / D + 1 / np.sqrt(r * D)) # The analytic MFPT from ref. 25\n",
    "print(\"Analytic value: \", analytic, \"; Prediction with 1000 samples: \", MFPT)"
   ]
  },
  {
   "cell_type": "markdown",
   "id": "fa87836a-5a77-4c27-b83b-15a79dbbef2f",
   "metadata": {},
   "source": [
    "## The FPT distribution\n",
    "\n",
    "Next we show how to estimate the FPT distribution up to time $t = 10$ for the case above."
   ]
  },
  {
   "cell_type": "code",
   "execution_count": 3,
   "id": "3fbad861-c87a-4b87-8110-fb1b7795fa45",
   "metadata": {},
   "outputs": [
    {
     "data": {
      "image/png": "[encoded data removed]",
      "text/plain": [
       "<Figure size 432x288 with 1 Axes>"
      ]
     },
     "metadata": {
      "needs_background": "light"
     },
     "output_type": "display_data"
    }
   ],
   "source": [
    "maximum = 10000\n",
    "\n",
    "# The vectors of Eq. S9\n",
    "Pvec = np.zeros(maximum)\n",
    "Fpsi = np.zeros(maximum)\n",
    "\n",
    "for i in range(N):\n",
    "\n",
    "    # Sample a diffusive trajectory from x = 1 to the origin\n",
    "    x = np.array([x0] + list(np.random.normal(scale = scale, size = 999999))).cumsum()\n",
    "    ni = np.argmax(x < 0) if 0 != np.argmax(x < 0) else len(x)\n",
    "    x = x[:ni]\n",
    "    \n",
    "    p = r * (x > 1) * dt              # The probability of resetting given that no resetting occurred previously\n",
    "    psi = (1 - p).cumprod() / (1 - p) # Survival probability of trajectory i through Eq. 4\n",
    "    psi = psi * (psi > 0) \n",
    "    \n",
    "    # Adding the contribution of trajectory i to Eq. S9\n",
    "    if ni < maximum:\n",
    "        Fpsi[ni] += psi[-1] / N\n",
    "    Pvec += p[min([maximum,ni-1])] * psi[min([maximum,ni-1])] / N\n",
    "\n",
    "# Filling matrix P\n",
    "Pmatrix = np.zeros((maximum,maximum))\n",
    "for j in range(maximum):\n",
    "    for i in range(j+1,maximum):\n",
    "        Pmatrix[i][j] = Pvec[i-j]\n",
    "        \n",
    "inversed = np.linalg.inv(np.identity(maximum) - Pmatrix) # The inverse of (I - P)\n",
    "FPTdistribution = inversed.dot(Fpsi)                     # The FPT distribution through Eq. S7\n",
    "\n",
    "plt.plot(np.linspace(1, 10, 9001), np.convolve(FPTdistribution, np.ones(1000)/1000, mode='valid')*1000, linewidth = 3) # The convolution is introduced to smoothen \n",
    "                                                                                                                       # the noisy, high resolution result\n",
    "plt.xlabel(r\"$t$\")\n",
    "plt.ylabel(r\"$f(t)$\")\n",
    "plt.yscale(\"log\")"
   ]
  },
  {
   "cell_type": "markdown",
   "id": "805d7d23-44bd-4250-94d2-46b254ff1aaa",
   "metadata": {},
   "source": [
    "## The NESS\n",
    "\n",
    "Finally, we demonstrate how to estimate the NESS of a one-dimensional diffusion with resetting rate $r(x) = x^2$."
   ]
  },
  {
   "cell_type": "code",
   "execution_count": 4,
   "id": "fb073785-2a01-4078-8d92-e441f0c174a4",
   "metadata": {},
   "outputs": [
    {
     "name": "stderr",
     "output_type": "stream",
     "text": [
      "/tmp/ipykernel_201123/2213510696.py:20: RuntimeWarning: floating point number truncated to an integer\n",
      "  ys = np.sqrt(2*abs(bins-0.001)/np.pi)/scp.special.gamma(0.25)*scp.special.kn(0.25,0.5*(bins-0.001)**2)\n"
     ]
    },
    {
     "data": {
      "text/plain": [
       "<matplotlib.legend.Legend at 0x7fd699721d00>"
      ]
     },
     "execution_count": 4,
     "metadata": {},
     "output_type": "execute_result"
    },
    {
     "data": {
      "image/png": "[encoded data removed]",
      "text/plain": [
       "<Figure size 432x288 with 1 Axes>"
      ]
     },
     "metadata": {
      "needs_background": "light"
     },
     "output_type": "display_data"
    }
   ],
   "source": [
    "NESS = np.zeros(100)\n",
    "bins = np.linspace(-5, 5, 101)\n",
    "\n",
    "for i in range(N):\n",
    "    \n",
    "    # Sample a diffusive trajectory initiated at x = 0\n",
    "    x = np.random.normal(scale=scale,size=99999).cumsum()\n",
    "    \n",
    "    p = x ** 2 * dt                   # The probability of resetting given that no resetting occurred previously\n",
    "    psi = (1 - p).cumprod() / (1 - p) # Survival probability of trajectory i through Eq. 4\n",
    "    psi = psi * (psi > 0)\n",
    "    \n",
    "    # Add the contribution of trajectory i to the NESS through Eq. 15\n",
    "    c,b = np.histogram(x,bins = bins, weights = psi)\n",
    "    NESS += c \n",
    "    \n",
    "NESS = NESS / NESS.sum() / (bins[1] - bins[0]) # Normalization\n",
    "\n",
    "ys = np.sqrt(2*abs(bins-0.001)/np.pi)/scp.special.gamma(0.25)*scp.special.kn(0.25,0.5*(bins-0.001)**2) # From ref. 24\n",
    "ys[50] = 1 / np.sqrt(np.pi)\n",
    "\n",
    "plt.plot(bins, ys, color=\"black\", label = \"Analytic\", linewidth = 3) \n",
    "bins = 0.5 * (bins[1:] + bins[:-1])\n",
    "plt.plot(bins, NESS, linestyle = \"dashed\", label = \"Predicted\", linewidth = 3)\n",
    "plt.yscale(\"log\")\n",
    "plt.legend()"
   ]
  }
 ],
 "metadata": {
  "kernelspec": {
   "display_name": "Python 3 (ipykernel)",
   "language": "python",
   "name": "python3"
  },
  "language_info": {
   "codemirror_mode": {
    "name": "ipython",
    "version": 3
   },
   "file_extension": ".py",
   "mimetype": "text/x-python",
   "name": "python",
   "nbconvert_exporter": "python",
   "pygments_lexer": "ipython3",
   "version": "3.8.10"
  }
 },
 "nbformat": 4,
 "nbformat_minor": 5
}
